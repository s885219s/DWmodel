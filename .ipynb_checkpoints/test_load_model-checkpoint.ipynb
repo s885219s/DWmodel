{
 "cells": [
  {
   "cell_type": "code",
   "execution_count": 3,
   "metadata": {},
   "outputs": [],
   "source": [
    "import keras\n",
    "import math\n",
    "import tensorflow as tf\n",
    "import numpy\n",
    "import sys\n",
    "import keras\n",
    "sys.path.append('C:/Users/UChen/Desktop/model')\n",
    "import matplotlib.pyplot as plt\n",
    "from keras.layers import Input\n",
    "from load_dataset import read_dataset,input2data\n",
    "from models import create_cfw_lsm_model, get_config"
   ]
  },
  {
   "cell_type": "code",
   "execution_count": 2,
   "metadata": {},
   "outputs": [],
   "source": [
    "'''setting input dimension'''\n",
    "conf = get_config()\n",
    "# keras.backend.set_learning_phase(1)\n",
    "'''inputes'''\n",
    "input_ef = Input(shape=(conf.height, conf.width, conf.ef_dim), name = 'Input_ef', dtype = 'float')\n",
    "input_agl = Input(shape=(conf.agl_dim,), name = 'Input_agl', dtype = 'float')\n",
    "input_img = Input(shape=(conf.height, conf.width, conf.channel), name = 'Input_img', dtype = 'float')\n",
    "\n",
    "'''create network'''\n",
    "model = create_cfw_lsm_model(input_img, input_agl, input_ef, conf)\n",
    "\n",
    "model.load_weights('Best_weight_cfw_lcm_v4.h5')"
   ]
  },
  {
   "cell_type": "code",
   "execution_count": 27,
   "metadata": {},
   "outputs": [
    {
     "name": "stdout",
     "output_type": "stream",
     "text": [
      "Processing file: ./bg.jpg\n",
      "Number of faces detected: 1\n"
     ]
    }
   ],
   "source": [
    "'''insert input'''\n",
    "img_path = './bg.jpg'\n",
    "R_img, L_img, R_feature_point_layer, L_feature_point_layer = input2data(\"sp_full_ver.dat\",img_path)\n",
    "\n",
    "#R_img,L_img =>41*51 img\n",
    "#R_feature_point_layer =>41*51 14 dim "
   ]
  },
  {
   "cell_type": "code",
   "execution_count": 32,
   "metadata": {},
   "outputs": [
    {
     "name": "stdout",
     "output_type": "stream",
     "text": [
      "(1, 41, 51, 3) (1, 41, 51, 3) (1, 41, 51, 14) (1, 41, 51, 14)\n"
     ]
    }
   ],
   "source": [
    "# '''prediction'''\n",
    "def ex_dim(input_array):\n",
    "    new_array = numpy.expand_dims(input_array, axis =0)\n",
    "    return new_array\n",
    "x_train_R = ex_dim(R_img) \n",
    "x_train_L = ex_dim(L_img) \n",
    "feature_point_R = ex_dim(R_feature_point_layer) \n",
    "feature_point_L = ex_dim(L_feature_point_layer)\n",
    "angle_dif = numpy.array([[0,10]])\n",
    "\n",
    "print(x_train_R.shape, x_train_L.shape, feature_point_R.shape, feature_point_L.shape)\n",
    "\n",
    "decoded_imgs = model.predict([feature_point_R/1.0, angle_dif/1.0, x_train_R/1.0])\n",
    "decoded_imgs = model.predict([feature_point_L/1.0, angle_dif/1.0, x_train_L/1.0])"
   ]
  },
  {
   "cell_type": "code",
   "execution_count": 37,
   "metadata": {
    "scrolled": false
   },
   "outputs": [
    {
     "ename": "IndexError",
     "evalue": "index 382 is out of bounds for axis 0 with size 1",
     "output_type": "error",
     "traceback": [
      "\u001b[1;31m---------------------------------------------------------------------------\u001b[0m",
      "\u001b[1;31mIndexError\u001b[0m                                Traceback (most recent call last)",
      "\u001b[1;32m<ipython-input-37-2d5160668b50>\u001b[0m in \u001b[0;36m<module>\u001b[1;34m()\u001b[0m\n\u001b[0;32m      5\u001b[0m     \u001b[0mj\u001b[0m \u001b[1;33m=\u001b[0m \u001b[0mi\u001b[0m\u001b[1;33m*\u001b[0m\u001b[1;36m3\u001b[0m\u001b[1;33m\u001b[0m\u001b[0m\n\u001b[0;32m      6\u001b[0m     \u001b[0mplt\u001b[0m\u001b[1;33m.\u001b[0m\u001b[0msubplot\u001b[0m\u001b[1;33m(\u001b[0m\u001b[0mplot_n\u001b[0m\u001b[1;33m,\u001b[0m \u001b[1;36m1\u001b[0m\u001b[1;33m,\u001b[0m \u001b[0mj\u001b[0m\u001b[1;33m+\u001b[0m\u001b[1;36m1\u001b[0m\u001b[1;33m)\u001b[0m\u001b[1;33m\u001b[0m\u001b[0m\n\u001b[1;32m----> 7\u001b[1;33m     \u001b[0mplt\u001b[0m\u001b[1;33m.\u001b[0m\u001b[0mimshow\u001b[0m\u001b[1;33m(\u001b[0m\u001b[0mx_train_L\u001b[0m\u001b[1;33m[\u001b[0m\u001b[0ma\u001b[0m\u001b[1;33m+\u001b[0m\u001b[0mi\u001b[0m\u001b[1;33m,\u001b[0m\u001b[1;33m...\u001b[0m\u001b[1;33m]\u001b[0m\u001b[1;33m/\u001b[0m\u001b[1;36m255\u001b[0m\u001b[1;33m)\u001b[0m\u001b[1;33m\u001b[0m\u001b[0m\n\u001b[0m\u001b[0;32m      8\u001b[0m     \u001b[0mplt\u001b[0m\u001b[1;33m.\u001b[0m\u001b[0maxis\u001b[0m\u001b[1;33m(\u001b[0m\u001b[1;34m'off'\u001b[0m\u001b[1;33m)\u001b[0m\u001b[1;33m\u001b[0m\u001b[0m\n\u001b[0;32m      9\u001b[0m     \u001b[0mplt\u001b[0m\u001b[1;33m.\u001b[0m\u001b[0msubplot\u001b[0m\u001b[1;33m(\u001b[0m\u001b[0mplot_n\u001b[0m\u001b[1;33m,\u001b[0m \u001b[1;36m1\u001b[0m\u001b[1;33m,\u001b[0m \u001b[0mj\u001b[0m\u001b[1;33m+\u001b[0m\u001b[1;36m2\u001b[0m\u001b[1;33m)\u001b[0m\u001b[1;33m\u001b[0m\u001b[0m\n",
      "\u001b[1;31mIndexError\u001b[0m: index 382 is out of bounds for axis 0 with size 1"
     ]
    }
   ],
   "source": [
    "import random\n",
    "plot_n = 3\n",
    "for i in range(plot_n):\n",
    "    a = random.randint(0, 500)\n",
    "    j = i*3\n",
    "    plt.subplot(plot_n, 3, j+1)\n",
    "    plt.imshow(x_train_L[a+i,...]/255)\n",
    "    plt.axis('off')\n",
    "    plt.subplot(plot_n, 3, j+2)\n",
    "    plt.imshow(decoded_imgs[a+i,...]/255)\n",
    "    plt.axis('off')\n",
    "    plt.subplot(plot_n, 3, j+3)\n",
    "    plt.imshow(y_train_L[a+i,...]/255)\n",
    "    plt.axis('off')\n",
    "plt.show()"
   ]
  },
  {
   "cell_type": "code",
   "execution_count": 36,
   "metadata": {},
   "outputs": [
    {
     "ename": "NameError",
     "evalue": "name 'history' is not defined",
     "output_type": "error",
     "traceback": [
      "\u001b[1;31m---------------------------------------------------------------------------\u001b[0m",
      "\u001b[1;31mNameError\u001b[0m                                 Traceback (most recent call last)",
      "\u001b[1;32m<ipython-input-36-146e21f73d12>\u001b[0m in \u001b[0;36m<module>\u001b[1;34m()\u001b[0m\n\u001b[1;32m----> 1\u001b[1;33m \u001b[0mloss\u001b[0m\u001b[1;33m=\u001b[0m \u001b[0mhistory\u001b[0m\u001b[1;33m.\u001b[0m\u001b[0mhistory\u001b[0m\u001b[1;33m.\u001b[0m\u001b[0mget\u001b[0m\u001b[1;33m(\u001b[0m\u001b[1;34m'loss'\u001b[0m\u001b[1;33m)\u001b[0m\u001b[1;33m\u001b[0m\u001b[0m\n\u001b[0m\u001b[0;32m      2\u001b[0m \u001b[0mval_loss\u001b[0m \u001b[1;33m=\u001b[0m \u001b[0mhistory\u001b[0m\u001b[1;33m.\u001b[0m\u001b[0mhistory\u001b[0m\u001b[1;33m.\u001b[0m\u001b[0mget\u001b[0m\u001b[1;33m(\u001b[0m\u001b[1;34m'val_loss'\u001b[0m\u001b[1;33m)\u001b[0m\u001b[1;33m\u001b[0m\u001b[0m\n\u001b[0;32m      3\u001b[0m \u001b[1;33m\u001b[0m\u001b[0m\n\u001b[0;32m      4\u001b[0m \u001b[1;34m''' Visualize the loss and accuracy of both models'''\u001b[0m\u001b[1;33m\u001b[0m\u001b[0m\n\u001b[0;32m      5\u001b[0m \u001b[1;32mimport\u001b[0m \u001b[0mmatplotlib\u001b[0m\u001b[1;33m.\u001b[0m\u001b[0mpyplot\u001b[0m \u001b[1;32mas\u001b[0m \u001b[0mplt\u001b[0m\u001b[1;33m\u001b[0m\u001b[0m\n",
      "\u001b[1;31mNameError\u001b[0m: name 'history' is not defined"
     ]
    }
   ],
   "source": [
    "loss= history.history.get('loss')\n",
    "val_loss = history.history.get('val_loss')\n",
    "\n",
    "''' Visualize the loss and accuracy of both models'''\n",
    "import matplotlib.pyplot as plt\n",
    "plt.figure(0)\n",
    "plt.subplot(111)\n",
    "plt.plot(range(len(loss)), loss,label='Training')\n",
    "plt.plot(range(len(val_loss)), val_loss,label='Validation')\n",
    "plt.title('Loss')\n",
    "plt.legend(loc='upper left')\n",
    "plt.savefig('result.png',dpi=300, format='png')\n",
    "plt.show()\n",
    "plt.close()\n",
    "print('Result saved into result.png')"
   ]
  },
  {
   "cell_type": "code",
   "execution_count": null,
   "metadata": {
    "collapsed": true
   },
   "outputs": [],
   "source": []
  }
 ],
 "metadata": {
  "kernelspec": {
   "display_name": "Python 3",
   "language": "python",
   "name": "python3"
  },
  "language_info": {
   "codemirror_mode": {
    "name": "ipython",
    "version": 3
   },
   "file_extension": ".py",
   "mimetype": "text/x-python",
   "name": "python",
   "nbconvert_exporter": "python",
   "pygments_lexer": "ipython3",
   "version": "3.5.3"
  }
 },
 "nbformat": 4,
 "nbformat_minor": 1
}
